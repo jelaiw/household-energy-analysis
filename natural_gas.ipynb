{
 "cells": [
  {
   "cell_type": "code",
   "execution_count": 1,
   "metadata": {},
   "outputs": [],
   "source": [
    "import pandas as pd"
   ]
  },
  {
   "cell_type": "code",
   "execution_count": 7,
   "metadata": {},
   "outputs": [
    {
     "data": {
      "text/html": [
       "<div>\n",
       "<style scoped>\n",
       "    .dataframe tbody tr th:only-of-type {\n",
       "        vertical-align: middle;\n",
       "    }\n",
       "\n",
       "    .dataframe tbody tr th {\n",
       "        vertical-align: top;\n",
       "    }\n",
       "\n",
       "    .dataframe thead th {\n",
       "        text-align: right;\n",
       "    }\n",
       "</style>\n",
       "<table border=\"1\" class=\"dataframe\">\n",
       "  <thead>\n",
       "    <tr style=\"text-align: right;\">\n",
       "      <th></th>\n",
       "      <th>Billing Period</th>\n",
       "      <th>Days of Use</th>\n",
       "      <th>Usage measured on</th>\n",
       "      <th>Units of usage</th>\n",
       "      <th>Amount</th>\n",
       "      <th>Meter number</th>\n",
       "    </tr>\n",
       "  </thead>\n",
       "  <tbody>\n",
       "    <tr>\n",
       "      <th>0</th>\n",
       "      <td>Dec-17</td>\n",
       "      <td>32</td>\n",
       "      <td>12/04/2017</td>\n",
       "      <td>41</td>\n",
       "      <td>71.99</td>\n",
       "      <td>BA416708</td>\n",
       "    </tr>\n",
       "    <tr>\n",
       "      <th>1</th>\n",
       "      <td>Nov-17</td>\n",
       "      <td>29</td>\n",
       "      <td>11/02/2017</td>\n",
       "      <td>21</td>\n",
       "      <td>40.90</td>\n",
       "      <td>BA416708</td>\n",
       "    </tr>\n",
       "    <tr>\n",
       "      <th>2</th>\n",
       "      <td>Oct-17</td>\n",
       "      <td>28</td>\n",
       "      <td>10/04/2017</td>\n",
       "      <td>16</td>\n",
       "      <td>33.24</td>\n",
       "      <td>BA416708</td>\n",
       "    </tr>\n",
       "    <tr>\n",
       "      <th>3</th>\n",
       "      <td>Sep-17</td>\n",
       "      <td>34</td>\n",
       "      <td>09/06/2017</td>\n",
       "      <td>15</td>\n",
       "      <td>31.69</td>\n",
       "      <td>BA416708</td>\n",
       "    </tr>\n",
       "    <tr>\n",
       "      <th>4</th>\n",
       "      <td>Aug-17</td>\n",
       "      <td>29</td>\n",
       "      <td>08/03/2017</td>\n",
       "      <td>17</td>\n",
       "      <td>34.79</td>\n",
       "      <td>BA416708</td>\n",
       "    </tr>\n",
       "  </tbody>\n",
       "</table>\n",
       "</div>"
      ],
      "text/plain": [
       "  Billing Period  Days of Use Usage measured on  Units of usage   Amount  \\\n",
       "0         Dec-17           32        12/04/2017               41   71.99   \n",
       "1         Nov-17           29        11/02/2017               21   40.90   \n",
       "2         Oct-17           28        10/04/2017               16   33.24   \n",
       "3         Sep-17           34        09/06/2017               15   31.69   \n",
       "4         Aug-17           29        08/03/2017               17   34.79   \n",
       "\n",
       "  Meter number  \n",
       "0     BA416708  \n",
       "1     BA416708  \n",
       "2     BA416708  \n",
       "3     BA416708  \n",
       "4     BA416708  "
      ]
     },
     "execution_count": 7,
     "metadata": {},
     "output_type": "execute_result"
    }
   ],
   "source": [
    "# See https://pbpython.com/pandas-excel-tabs.html for guidance on how to read all sheets into a single dataframe.\n",
    "years = ['2017', '2018', '2019', '2020'] # Specify the years for the worksheets we want.\n",
    "df = pd.concat(pd.read_excel(\"usage_history_200001102972.xlsx\", sheet_name=years), ignore_index=True)\n",
    "df.head()"
   ]
  },
  {
   "cell_type": "code",
   "execution_count": 8,
   "metadata": {},
   "outputs": [
    {
     "name": "stdout",
     "output_type": "stream",
     "text": [
      "<class 'pandas.core.frame.DataFrame'>\n",
      "RangeIndex: 48 entries, 0 to 47\n",
      "Data columns (total 6 columns):\n",
      " #   Column             Non-Null Count  Dtype  \n",
      "---  ------             --------------  -----  \n",
      " 0   Billing Period     48 non-null     object \n",
      " 1   Days of Use        48 non-null     int64  \n",
      " 2   Usage measured on  48 non-null     object \n",
      " 3   Units of usage     48 non-null     int64  \n",
      " 4   Amount             48 non-null     float64\n",
      " 5   Meter number       48 non-null     object \n",
      "dtypes: float64(1), int64(2), object(3)\n",
      "memory usage: 2.4+ KB\n"
     ]
    }
   ],
   "source": [
    "df.info()"
   ]
  },
  {
   "cell_type": "code",
   "execution_count": 9,
   "metadata": {},
   "outputs": [
    {
     "data": {
      "text/plain": [
       "['Billing Period',\n",
       " 'Days of Use',\n",
       " 'Usage measured on',\n",
       " 'Units of usage ',\n",
       " 'Amount',\n",
       " 'Meter number']"
      ]
     },
     "execution_count": 9,
     "metadata": {},
     "output_type": "execute_result"
    }
   ],
   "source": [
    "cols = list(df.columns)\n",
    "cols"
   ]
  },
  {
   "cell_type": "code",
   "execution_count": 13,
   "metadata": {},
   "outputs": [
    {
     "name": "stdout",
     "output_type": "stream",
     "text": [
      "<class 'pandas.core.frame.DataFrame'>\n",
      "RangeIndex: 48 entries, 0 to 47\n",
      "Data columns (total 6 columns):\n",
      " #   Column             Non-Null Count  Dtype         \n",
      "---  ------             --------------  -----         \n",
      " 0   Billing Period     48 non-null     object        \n",
      " 1   Days of Use        48 non-null     int64         \n",
      " 2   Usage measured on  48 non-null     datetime64[ns]\n",
      " 3   Units of usage     48 non-null     int64         \n",
      " 4   Amount             48 non-null     float64       \n",
      " 5   Meter number       48 non-null     object        \n",
      "dtypes: datetime64[ns](1), float64(1), int64(2), object(2)\n",
      "memory usage: 2.4+ KB\n"
     ]
    }
   ],
   "source": [
    "df[cols[2]] = pd.to_datetime(df[cols[2]]) # Convert \"Usage measured on\" field to datetime.\n",
    "df.info()"
   ]
  }
 ],
 "metadata": {
  "kernelspec": {
   "display_name": "Python 3",
   "language": "python",
   "name": "python3"
  },
  "language_info": {
   "codemirror_mode": {
    "name": "ipython",
    "version": 3
   },
   "file_extension": ".py",
   "mimetype": "text/x-python",
   "name": "python",
   "nbconvert_exporter": "python",
   "pygments_lexer": "ipython3",
   "version": "3.8.3"
  }
 },
 "nbformat": 4,
 "nbformat_minor": 4
}
